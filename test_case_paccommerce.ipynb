{
  "nbformat": 4,
  "nbformat_minor": 0,
  "metadata": {
    "colab": {
      "provenance": []
    },
    "kernelspec": {
      "name": "python3",
      "display_name": "Python 3"
    },
    "language_info": {
      "name": "python"
    }
  },
  "cells": [
    {
      "cell_type": "code",
      "source": [
        "from paccommerce import Membership"
      ],
      "metadata": {
        "id": "dcaoZ3KHheGz"
      },
      "execution_count": null,
      "outputs": []
    },
    {
      "cell_type": "markdown",
      "source": [
        "---\n",
        "\n",
        "#### Test Case 1"
      ],
      "metadata": {
        "id": "FgpAp0nWf2nH"
      }
    },
    {
      "cell_type": "code",
      "source": [
        "# Cek existing members\n",
        "\n",
        "admin = Membership(\"Suryo\")\n",
        "admin.show_all_members()"
      ],
      "metadata": {
        "colab": {
          "base_uri": "https://localhost:8080/"
        },
        "id": "f_ftZVC6f1Qb",
        "outputId": "123e042d-78f5-4932-d6a6-72411cb3231c"
      },
      "execution_count": null,
      "outputs": [
        {
          "output_type": "stream",
          "name": "stdout",
          "text": [
            "Enter admin password: pacmann\n",
            "Access granted. Displaying all registered members.\n",
            " \n",
            "Name    Membership\n",
            "------  ------------\n",
            "Sumbul  Platinum\n",
            "Ana     Gold\n",
            "Cahya   Platinum\n"
          ]
        }
      ]
    },
    {
      "cell_type": "markdown",
      "source": [
        "---\n",
        "\n",
        "#### Test Case 2"
      ],
      "metadata": {
        "id": "0AlXECJqgUyV"
      }
    },
    {
      "cell_type": "code",
      "source": [
        "# Cek benefit membership PacCommerce\n",
        "\n",
        "admin.show_benefit()"
      ],
      "metadata": {
        "colab": {
          "base_uri": "https://localhost:8080/"
        },
        "id": "PJ_9PV7If1OJ",
        "outputId": "83586c2a-7dca-4c2e-f05f-eded227914b0"
      },
      "execution_count": null,
      "outputs": [
        {
          "output_type": "stream",
          "name": "stdout",
          "text": [
            "PacCommerce Membership Benefits\n",
            " \n",
            "Membership    Discount    Another Benefit\n",
            "------------  ----------  --------------------------------------------------------------\n",
            "Platinum      15%         Silver & Gold Benefits + Holiday Vouchers + Cashback up to 30%\n",
            "Gold          10%         Silver Benefits + Online Ride Voucher\n",
            "Silver        8%          Meal Voucher\n"
          ]
        }
      ]
    },
    {
      "cell_type": "markdown",
      "source": [
        "---\n",
        "\n",
        "#### Test Case 3"
      ],
      "metadata": {
        "id": "15laWPOig1dD"
      }
    },
    {
      "cell_type": "code",
      "source": [
        "# Cek reqirements membership PacCommerce\n",
        "\n",
        "admin.show_requirements()"
      ],
      "metadata": {
        "colab": {
          "base_uri": "https://localhost:8080/"
        },
        "id": "o80PrJSZf1Ls",
        "outputId": "dfc9737a-e228-4a79-f947-d7e238b0e065"
      },
      "execution_count": null,
      "outputs": [
        {
          "output_type": "stream",
          "name": "stdout",
          "text": [
            "PacCommerce Membership Requirements\n",
            " \n",
            "Membership      Monthly Expense (million)    Monthly Income (million)\n",
            "------------  ---------------------------  --------------------------\n",
            "Platinum                                8                          15\n",
            "Gold                                    6                          10\n",
            "Silver                                  5                           7\n"
          ]
        }
      ]
    },
    {
      "cell_type": "markdown",
      "source": [
        "---\n",
        "\n",
        "#### Test Case 4"
      ],
      "metadata": {
        "id": "vikYWdG0hKks"
      }
    },
    {
      "cell_type": "code",
      "source": [
        "# Buat prediksi membership untuk user \"Shandy\"\n",
        "# Masukkan parameter `monthly_expense = 9` dan `monthly_income = 12`\n",
        "\n",
        "shandy = Membership(\"Shandy\")\n",
        "shandy.predict_membership(9, 12)"
      ],
      "metadata": {
        "colab": {
          "base_uri": "https://localhost:8080/",
          "height": 87
        },
        "id": "waayvKiIf1JI",
        "outputId": "d61ea169-e7da-4871-fda9-7b8c157a08c1"
      },
      "execution_count": null,
      "outputs": [
        {
          "output_type": "stream",
          "name": "stdout",
          "text": [
            "Euclidean Distance calculation for user Shandy: {'Platinum': 3.16, 'Gold': 3.61, 'Silver': 6.4}\n",
            " \n",
            "Based on the result, you have been automatically registered as a member of:\n"
          ]
        },
        {
          "output_type": "execute_result",
          "data": {
            "text/plain": [
              "'Platinum'"
            ],
            "application/vnd.google.colaboratory.intrinsic+json": {
              "type": "string"
            }
          },
          "metadata": {},
          "execution_count": 5
        }
      ]
    },
    {
      "cell_type": "code",
      "source": [
        "# Tampilkan membership berdasarkan user\n",
        "\n",
        "shandy.show_membership()"
      ],
      "metadata": {
        "colab": {
          "base_uri": "https://localhost:8080/"
        },
        "id": "IgqP2IzKf1Gr",
        "outputId": "fa55ee40-65d8-4857-b3a0-3d4f78b9fc5c"
      },
      "execution_count": null,
      "outputs": [
        {
          "output_type": "stream",
          "name": "stdout",
          "text": [
            "User Shandy is currently a Platinum Member.\n"
          ]
        }
      ]
    },
    {
      "cell_type": "code",
      "source": [
        "# Tampilkan database existing members terbaru\n",
        "# Cek apakah 'Shandy' sudah masuk\n",
        "\n",
        "admin.show_all_members()"
      ],
      "metadata": {
        "colab": {
          "base_uri": "https://localhost:8080/"
        },
        "id": "eUnviQ7bf1D3",
        "outputId": "4f5eafde-6f2b-4879-f870-2032e03e9731"
      },
      "execution_count": null,
      "outputs": [
        {
          "output_type": "stream",
          "name": "stdout",
          "text": [
            "Enter admin password: pacmann\n",
            "Access granted. Displaying all registered members.\n",
            " \n",
            "Name    Membership\n",
            "------  ------------\n",
            "Sumbul  Platinum\n",
            "Ana     Gold\n",
            "Cahya   Platinum\n",
            "Shandy  Platinum\n"
          ]
        }
      ]
    },
    {
      "cell_type": "markdown",
      "source": [
        "---\n",
        "\n",
        "#### Test Case 5"
      ],
      "metadata": {
        "id": "zB9GHI5Pi74w"
      }
    },
    {
      "cell_type": "code",
      "source": [
        "# Masukkan harga barang yang harus dihitung `[150_000, 200_000, 400_000]`\n",
        "\n",
        "price_list = [150_000, 200_000, 400_000]\n",
        "shandy.calculate_price(price_list)"
      ],
      "metadata": {
        "colab": {
          "base_uri": "https://localhost:8080/"
        },
        "id": "MDaeXN8Gf1Bj",
        "outputId": "395b8833-061d-433b-ed73-734bf5220663"
      },
      "execution_count": null,
      "outputs": [
        {
          "output_type": "stream",
          "name": "stdout",
          "text": [
            "Congratulations! You received a membership discount of Rp 112.500,00 in this transaction.\n",
            " \n",
            "Total amount payable by user Shandy is:\n",
            "Rp 637.500,00\n"
          ]
        }
      ]
    },
    {
      "cell_type": "markdown",
      "source": [
        "---\n",
        "\n",
        "#### Test Case 6"
      ],
      "metadata": {
        "id": "xoEeqrn_kJoo"
      }
    },
    {
      "cell_type": "code",
      "source": [
        "# Cek apakah object Ana sudah memiliki atribut membership\n",
        "\n",
        "ana.show_membership()"
      ],
      "metadata": {
        "colab": {
          "base_uri": "https://localhost:8080/",
          "height": 176
        },
        "id": "T831OKhZrYfQ",
        "outputId": "5d338101-e16c-4572-efb0-6daeaf7c51d3"
      },
      "execution_count": null,
      "outputs": [
        {
          "output_type": "error",
          "ename": "NameError",
          "evalue": "name 'ana' is not defined",
          "traceback": [
            "\u001b[0;31m---------------------------------------------------------------------------\u001b[0m",
            "\u001b[0;31mNameError\u001b[0m                                 Traceback (most recent call last)",
            "\u001b[0;32m/tmp/ipython-input-9-2886465419.py\u001b[0m in \u001b[0;36m<cell line: 0>\u001b[0;34m()\u001b[0m\n\u001b[1;32m      1\u001b[0m \u001b[0;31m# Cek apakah object Ana sudah memiliki atribut membership\u001b[0m\u001b[0;34m\u001b[0m\u001b[0;34m\u001b[0m\u001b[0m\n\u001b[1;32m      2\u001b[0m \u001b[0;34m\u001b[0m\u001b[0m\n\u001b[0;32m----> 3\u001b[0;31m \u001b[0mana\u001b[0m\u001b[0;34m.\u001b[0m\u001b[0mshow_membership\u001b[0m\u001b[0;34m(\u001b[0m\u001b[0;34m)\u001b[0m\u001b[0;34m\u001b[0m\u001b[0;34m\u001b[0m\u001b[0m\n\u001b[0m",
            "\u001b[0;31mNameError\u001b[0m: name 'ana' is not defined"
          ]
        }
      ]
    },
    {
      "cell_type": "code",
      "source": [
        "# Membuat dan memastikan objek Ana adalah Ana yang datanya ada di database existing user\n",
        "\n",
        "ana = Membership(\"Ana\")"
      ],
      "metadata": {
        "colab": {
          "base_uri": "https://localhost:8080/"
        },
        "id": "fsGNN4nkf0-u",
        "outputId": "2bf11f88-1154-403a-d76d-4cfcaf40c7d3"
      },
      "execution_count": null,
      "outputs": [
        {
          "output_type": "stream",
          "name": "stdout",
          "text": [
            "To verify your identity as Ana, please answer:\n",
            " - Your membership type = Gold\n",
            " - Your user password = registered_member\n",
            " \n",
            "Welcome back, Ana! Thank you for verifying your identity.\n"
          ]
        }
      ]
    },
    {
      "cell_type": "code",
      "source": [
        "# Cek ulang apakah Ana sudah memiliki atribut membership\n",
        "\n",
        "ana.show_membership()"
      ],
      "metadata": {
        "colab": {
          "base_uri": "https://localhost:8080/"
        },
        "id": "OMBY0EHIf071",
        "outputId": "3d3185c6-33af-447b-e081-673df9d7fdff"
      },
      "execution_count": null,
      "outputs": [
        {
          "output_type": "stream",
          "name": "stdout",
          "text": [
            "User Ana is currently a Gold Member.\n"
          ]
        }
      ]
    },
    {
      "cell_type": "code",
      "source": [
        "# Hitung harga yang sama dengan 'Shandy' menggunakan existing user 'Ana'\n",
        "\n",
        "price_list = [150_000, 200_000, 400_000]\n",
        "ana.calculate_price(price_list)"
      ],
      "metadata": {
        "colab": {
          "base_uri": "https://localhost:8080/"
        },
        "id": "XfesJE2-f05B",
        "outputId": "7bc2c13e-d28f-475c-f31f-34c4e4334977"
      },
      "execution_count": null,
      "outputs": [
        {
          "output_type": "stream",
          "name": "stdout",
          "text": [
            "Congratulations! You received a membership discount of Rp 75.000,00 in this transaction.\n",
            " \n",
            "Total amount payable by user Ana is:\n",
            "Rp 675.000,00\n"
          ]
        }
      ]
    },
    {
      "cell_type": "markdown",
      "source": [
        "---\n",
        "\n",
        "#### Test Case 7"
      ],
      "metadata": {
        "id": "CfmBSkl7so65"
      }
    },
    {
      "cell_type": "code",
      "source": [
        "# Coba dengan user lain bernama 'Bambang'\n",
        "# Predict membershipnya dengan parameter `monthly_expense = 13` dan `monthly_income = 14`\n",
        "\n",
        "bambang = Membership(\"Bambang\")\n",
        "bambang.predict_membership(13, 14)"
      ],
      "metadata": {
        "colab": {
          "base_uri": "https://localhost:8080/",
          "height": 87
        },
        "id": "V7di3cSAf015",
        "outputId": "8e282c70-f0d5-4eb2-976c-348a76d263de"
      },
      "execution_count": null,
      "outputs": [
        {
          "output_type": "stream",
          "name": "stdout",
          "text": [
            "Euclidean Distance calculation for user Bambang: {'Platinum': 5.1, 'Gold': 8.06, 'Silver': 10.63}\n",
            " \n",
            "Based on the result, you have been automatically registered as a member of:\n"
          ]
        },
        {
          "output_type": "execute_result",
          "data": {
            "text/plain": [
              "'Platinum'"
            ],
            "application/vnd.google.colaboratory.intrinsic+json": {
              "type": "string"
            }
          },
          "metadata": {},
          "execution_count": 13
        }
      ]
    },
    {
      "cell_type": "code",
      "source": [
        "# Cek tabel membership apakah Bambang sudah masuk\n",
        "\n",
        "admin.show_all_members()"
      ],
      "metadata": {
        "colab": {
          "base_uri": "https://localhost:8080/"
        },
        "id": "4uLwOgNhf0y9",
        "outputId": "18335cfd-eb99-47dc-fabb-1825bae09731"
      },
      "execution_count": null,
      "outputs": [
        {
          "output_type": "stream",
          "name": "stdout",
          "text": [
            "Enter admin password: pacmann\n",
            "Access granted. Displaying all registered members.\n",
            " \n",
            "Name     Membership\n",
            "-------  ------------\n",
            "Sumbul   Platinum\n",
            "Ana      Gold\n",
            "Cahya    Platinum\n",
            "Shandy   Platinum\n",
            "Bambang  Platinum\n"
          ]
        }
      ]
    },
    {
      "cell_type": "code",
      "source": [
        "# Ubah parameter Bambang menjadi `monthly_expense = 3` dan `monthly_income = 4`\n",
        "\n",
        "bambang.predict_membership(3, 4)"
      ],
      "metadata": {
        "colab": {
          "base_uri": "https://localhost:8080/",
          "height": 87
        },
        "id": "omCIQAy4f0rf",
        "outputId": "2ea8619f-9dc4-4df3-ce36-3a9b3a553b92"
      },
      "execution_count": null,
      "outputs": [
        {
          "output_type": "stream",
          "name": "stdout",
          "text": [
            "Euclidean Distance calculation for user Bambang: {'Platinum': 12.08, 'Gold': 6.71, 'Silver': 3.61}\n",
            " \n",
            "Based on the result, you have been automatically registered as a member of:\n"
          ]
        },
        {
          "output_type": "execute_result",
          "data": {
            "text/plain": [
              "'Silver'"
            ],
            "application/vnd.google.colaboratory.intrinsic+json": {
              "type": "string"
            }
          },
          "metadata": {},
          "execution_count": 15
        }
      ]
    },
    {
      "cell_type": "code",
      "source": [
        "# Cek ulang tabel apakah jenis membership Bambang telah terupdate\n",
        "\n",
        "admin.show_all_members()"
      ],
      "metadata": {
        "colab": {
          "base_uri": "https://localhost:8080/"
        },
        "id": "bzqlPciFKz8_",
        "outputId": "fac24981-dbdc-4fe8-9bd8-deab1d2a37fb"
      },
      "execution_count": null,
      "outputs": [
        {
          "output_type": "stream",
          "name": "stdout",
          "text": [
            "Enter admin password: pacmann\n",
            "Access granted. Displaying all registered members.\n",
            " \n",
            "Name     Membership\n",
            "-------  ------------\n",
            "Sumbul   Platinum\n",
            "Ana      Gold\n",
            "Cahya    Platinum\n",
            "Shandy   Platinum\n",
            "Bambang  Silver\n"
          ]
        }
      ]
    },
    {
      "cell_type": "code",
      "source": [
        "# Tampilkan membership berdasarkan user\n",
        "\n",
        "bambang.show_membership()"
      ],
      "metadata": {
        "colab": {
          "base_uri": "https://localhost:8080/"
        },
        "id": "NoaRbuKWuoib",
        "outputId": "fb88e7fe-2052-46b3-e373-052c644725eb"
      },
      "execution_count": null,
      "outputs": [
        {
          "output_type": "stream",
          "name": "stdout",
          "text": [
            "User Bambang is currently a Silver Member.\n"
          ]
        }
      ]
    },
    {
      "cell_type": "code",
      "source": [
        "# Hitung harga yang harus dibayar Bambang jika price list `[300_000, 150_000, 1_250_000, 15_000]`\n",
        "\n",
        "price_list = [300_000, 150_000, 1_250_000, 15_000]\n",
        "bambang.calculate_price(price_list)"
      ],
      "metadata": {
        "colab": {
          "base_uri": "https://localhost:8080/"
        },
        "id": "o0FskWNpu1Bk",
        "outputId": "28599d59-58e5-4ce5-add6-469caec61cd1"
      },
      "execution_count": null,
      "outputs": [
        {
          "output_type": "stream",
          "name": "stdout",
          "text": [
            "Congratulations! You received a membership discount of Rp 137.200,00 in this transaction.\n",
            " \n",
            "Total amount payable by user Bambang is:\n",
            "Rp 1.577.800,00\n"
          ]
        }
      ]
    },
    {
      "cell_type": "markdown",
      "source": [
        "---\n",
        "\n",
        "#### Test Case 8"
      ],
      "metadata": {
        "id": "tw7X4ni8wZ7N"
      }
    },
    {
      "cell_type": "code",
      "source": [
        "# Tambahkan user 'Gogo' dan coba fitur hapus member\n",
        "\n",
        "gogo = Membership(\"Gogo\")\n",
        "gogo.predict_membership(3, 4)"
      ],
      "metadata": {
        "colab": {
          "base_uri": "https://localhost:8080/",
          "height": 87
        },
        "id": "fGBSg64yvEdo",
        "outputId": "efab0f68-3ac1-4abd-9da9-7611bd8ba747"
      },
      "execution_count": null,
      "outputs": [
        {
          "output_type": "stream",
          "name": "stdout",
          "text": [
            "Euclidean Distance calculation for user Gogo: {'Platinum': 12.08, 'Gold': 6.71, 'Silver': 3.61}\n",
            " \n",
            "Based on the result, you have been automatically registered as a member of:\n"
          ]
        },
        {
          "output_type": "execute_result",
          "data": {
            "text/plain": [
              "'Silver'"
            ],
            "application/vnd.google.colaboratory.intrinsic+json": {
              "type": "string"
            }
          },
          "metadata": {},
          "execution_count": 19
        }
      ]
    },
    {
      "cell_type": "code",
      "source": [
        "# Cek apakah Gogo sudah masuk ke tabel all members\n",
        "\n",
        "admin.show_all_members()"
      ],
      "metadata": {
        "colab": {
          "base_uri": "https://localhost:8080/"
        },
        "id": "J349G-L8wxVo",
        "outputId": "4668afd2-187a-4436-c42d-ee75cbc58ed5"
      },
      "execution_count": null,
      "outputs": [
        {
          "output_type": "stream",
          "name": "stdout",
          "text": [
            "Enter admin password: pacmann\n",
            "Access granted. Displaying all registered members.\n",
            " \n",
            "Name     Membership\n",
            "-------  ------------\n",
            "Sumbul   Platinum\n",
            "Ana      Gold\n",
            "Cahya    Platinum\n",
            "Shandy   Platinum\n",
            "Bambang  Silver\n",
            "Gogo     Silver\n"
          ]
        }
      ]
    },
    {
      "cell_type": "code",
      "source": [
        "# Attempt menghapus 'Gogo' tapi user tidak authorized\n",
        "\n",
        "bambang.remove_member('Gogo')"
      ],
      "metadata": {
        "colab": {
          "base_uri": "https://localhost:8080/",
          "height": 315
        },
        "id": "P_pod7SBw4Tk",
        "outputId": "37bdcf69-2112-4f0c-edf4-f2f8b820cd82"
      },
      "execution_count": null,
      "outputs": [
        {
          "name": "stdout",
          "output_type": "stream",
          "text": [
            "Enter admin password: user123\n"
          ]
        },
        {
          "output_type": "error",
          "ename": "RuntimeError",
          "evalue": "Incorrect password. You are not authorized to remove members.",
          "traceback": [
            "\u001b[0;31m---------------------------------------------------------------------------\u001b[0m",
            "\u001b[0;31mRuntimeError\u001b[0m                              Traceback (most recent call last)",
            "\u001b[0;32m/tmp/ipython-input-21-2582238013.py\u001b[0m in \u001b[0;36m<cell line: 0>\u001b[0;34m()\u001b[0m\n\u001b[1;32m      1\u001b[0m \u001b[0;31m# Attempt menghapus 'Gogo' tapi user tidak authorized\u001b[0m\u001b[0;34m\u001b[0m\u001b[0;34m\u001b[0m\u001b[0m\n\u001b[1;32m      2\u001b[0m \u001b[0;34m\u001b[0m\u001b[0m\n\u001b[0;32m----> 3\u001b[0;31m \u001b[0mbambang\u001b[0m\u001b[0;34m.\u001b[0m\u001b[0mremove_member\u001b[0m\u001b[0;34m(\u001b[0m\u001b[0;34m'Gogo'\u001b[0m\u001b[0;34m)\u001b[0m\u001b[0;34m\u001b[0m\u001b[0;34m\u001b[0m\u001b[0m\n\u001b[0m",
            "\u001b[0;32m/tmp/ipython-input-1-455595554.py\u001b[0m in \u001b[0;36mremove_member\u001b[0;34m(self, username)\u001b[0m\n\u001b[1;32m    160\u001b[0m             \u001b[0mself\u001b[0m\u001b[0;34m.\u001b[0m\u001b[0m__show_all_members\u001b[0m\u001b[0;34m(\u001b[0m\u001b[0;34m)\u001b[0m\u001b[0;34m\u001b[0m\u001b[0;34m\u001b[0m\u001b[0m\n\u001b[1;32m    161\u001b[0m         \u001b[0;32melse\u001b[0m\u001b[0;34m:\u001b[0m\u001b[0;34m\u001b[0m\u001b[0;34m\u001b[0m\u001b[0m\n\u001b[0;32m--> 162\u001b[0;31m             \u001b[0;32mraise\u001b[0m \u001b[0mRuntimeError\u001b[0m\u001b[0;34m(\u001b[0m\u001b[0;34m\"Incorrect password. You are not authorized to remove members.\"\u001b[0m\u001b[0;34m)\u001b[0m\u001b[0;34m\u001b[0m\u001b[0;34m\u001b[0m\u001b[0m\n\u001b[0m\u001b[1;32m    163\u001b[0m \u001b[0;34m\u001b[0m\u001b[0m\n\u001b[1;32m    164\u001b[0m \u001b[0;34m\u001b[0m\u001b[0m\n",
            "\u001b[0;31mRuntimeError\u001b[0m: Incorrect password. You are not authorized to remove members."
          ]
        }
      ]
    },
    {
      "cell_type": "code",
      "source": [
        "# Attempt menghapus nama user yang tidak ada dalam database\n",
        "\n",
        "admin.remove_member('Gaga')"
      ],
      "metadata": {
        "colab": {
          "base_uri": "https://localhost:8080/",
          "height": 297
        },
        "id": "42-mYh0IxKk8",
        "outputId": "36b85505-eaa0-4385-b2da-059084830146"
      },
      "execution_count": null,
      "outputs": [
        {
          "output_type": "error",
          "ename": "NameError",
          "evalue": "Username 'Gaga' is not registered as a PacCommerce member.",
          "traceback": [
            "\u001b[0;31m---------------------------------------------------------------------------\u001b[0m",
            "\u001b[0;31mNameError\u001b[0m                                 Traceback (most recent call last)",
            "\u001b[0;32m/tmp/ipython-input-22-2482521776.py\u001b[0m in \u001b[0;36m<cell line: 0>\u001b[0;34m()\u001b[0m\n\u001b[1;32m      1\u001b[0m \u001b[0;31m# Attempt menghapus nama user yang tidak ada dalam database\u001b[0m\u001b[0;34m\u001b[0m\u001b[0;34m\u001b[0m\u001b[0m\n\u001b[1;32m      2\u001b[0m \u001b[0;34m\u001b[0m\u001b[0m\n\u001b[0;32m----> 3\u001b[0;31m \u001b[0madmin\u001b[0m\u001b[0;34m.\u001b[0m\u001b[0mremove_member\u001b[0m\u001b[0;34m(\u001b[0m\u001b[0;34m'Gaga'\u001b[0m\u001b[0;34m)\u001b[0m\u001b[0;34m\u001b[0m\u001b[0;34m\u001b[0m\u001b[0m\n\u001b[0m",
            "\u001b[0;32m/tmp/ipython-input-1-455595554.py\u001b[0m in \u001b[0;36mremove_member\u001b[0;34m(self, username)\u001b[0m\n\u001b[1;32m    148\u001b[0m         \u001b[0;34m\"\"\"Removes a member (authorized users only).\"\"\"\u001b[0m\u001b[0;34m\u001b[0m\u001b[0;34m\u001b[0m\u001b[0m\n\u001b[1;32m    149\u001b[0m         \u001b[0;32mif\u001b[0m \u001b[0musername\u001b[0m \u001b[0;32mnot\u001b[0m \u001b[0;32min\u001b[0m \u001b[0mMembership\u001b[0m\u001b[0;34m.\u001b[0m\u001b[0mregistered_member\u001b[0m\u001b[0;34m.\u001b[0m\u001b[0mkeys\u001b[0m\u001b[0;34m(\u001b[0m\u001b[0;34m)\u001b[0m\u001b[0;34m:\u001b[0m\u001b[0;34m\u001b[0m\u001b[0;34m\u001b[0m\u001b[0m\n\u001b[0;32m--> 150\u001b[0;31m             \u001b[0;32mraise\u001b[0m \u001b[0mNameError\u001b[0m\u001b[0;34m(\u001b[0m\u001b[0;34mf\"Username '{username}' is not registered as a PacCommerce member.\"\u001b[0m\u001b[0;34m)\u001b[0m\u001b[0;34m\u001b[0m\u001b[0;34m\u001b[0m\u001b[0m\n\u001b[0m\u001b[1;32m    151\u001b[0m \u001b[0;34m\u001b[0m\u001b[0m\n\u001b[1;32m    152\u001b[0m         \u001b[0;31m# Authorization is done by matching the password input\u001b[0m\u001b[0;34m\u001b[0m\u001b[0;34m\u001b[0m\u001b[0m\n",
            "\u001b[0;31mNameError\u001b[0m: Username 'Gaga' is not registered as a PacCommerce member."
          ]
        }
      ]
    },
    {
      "cell_type": "code",
      "source": [
        "# Attempt menghapus 'Gogo' dimana user authorized dan berhasil\n",
        "\n",
        "admin.remove_member('Gogo')"
      ],
      "metadata": {
        "colab": {
          "base_uri": "https://localhost:8080/"
        },
        "id": "loTWUevQxkqX",
        "outputId": "7d6caff8-4ed7-4853-febd-afb8a50b8862"
      },
      "execution_count": null,
      "outputs": [
        {
          "output_type": "stream",
          "name": "stdout",
          "text": [
            "Enter admin password: pacmann\n",
            "Access granted. User 'Gogo' has been removed.\n",
            " \n",
            "Updated registered members list:\n",
            "Name     Membership\n",
            "-------  ------------\n",
            "Sumbul   Platinum\n",
            "Ana      Gold\n",
            "Cahya    Platinum\n",
            "Shandy   Platinum\n",
            "Bambang  Silver\n"
          ]
        }
      ]
    }
  ]
}